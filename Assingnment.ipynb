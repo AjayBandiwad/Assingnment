{
 "cells": [
  {
   "cell_type": "code",
   "execution_count": 4,
   "metadata": {},
   "outputs": [
    {
     "name": "stdout",
     "output_type": "stream",
     "text": [
      "1250.0\n"
     ]
    }
   ],
   "source": [
    "def simple_intrest():\n",
    "    p=float(input(\"enter the principle amount\"))\n",
    "    t=float(input(\"enter the time \"))\n",
    "    r=float(input(\"enter the rate of intrest\"))\n",
    "    SI=(p*t*r)/100\n",
    "    return SI\n",
    "\n",
    "result=simple_intrest()\n",
    "print(result)\n",
    "     "
   ]
  },
  {
   "cell_type": "code",
   "execution_count": 6,
   "metadata": {},
   "outputs": [
    {
     "name": "stdout",
     "output_type": "stream",
     "text": [
      "221.0\n"
     ]
    }
   ],
   "source": [
    "def compound_intrest():\n",
    "    p=float(input(\"enter principal amount\"))\n",
    "    t=float(input(\"enter the time\"))\n",
    "    r=float(input(\"enter the rate of intrest\"))\n",
    "    a=p*(1+(r/100))**t\n",
    "    CI=a-p\n",
    "    return CI\n",
    "\n",
    "result=compound_intrest()\n",
    "print(result)\n",
    "    "
   ]
  }
 ],
 "metadata": {
  "kernelspec": {
   "display_name": "Python 3",
   "language": "python",
   "name": "python3"
  },
  "language_info": {
   "codemirror_mode": {
    "name": "ipython",
    "version": 3
   },
   "file_extension": ".py",
   "mimetype": "text/x-python",
   "name": "python",
   "nbconvert_exporter": "python",
   "pygments_lexer": "ipython3",
   "version": "3.11.2"
  },
  "orig_nbformat": 4
 },
 "nbformat": 4,
 "nbformat_minor": 2
}
