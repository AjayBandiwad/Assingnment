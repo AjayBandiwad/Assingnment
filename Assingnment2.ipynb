{
 "cells": [
  {
   "cell_type": "code",
   "execution_count": 1,
   "metadata": {},
   "outputs": [
    {
     "name": "stdout",
     "output_type": "stream",
     "text": [
      "78.5\n"
     ]
    }
   ],
   "source": [
    "r=float(input(\"enter the radius\"))\n",
    "area=3.14*r*r\n",
    "print(area)"
   ]
  },
  {
   "cell_type": "code",
   "execution_count": 2,
   "metadata": {},
   "outputs": [
    {
     "name": "stdout",
     "output_type": "stream",
     "text": [
      "the value of P afterswaping: 5\n",
      "the value of Q afterswaping: 4\n"
     ]
    }
   ],
   "source": [
    "P=int(input(\"enter the value for P\"))\n",
    "Q=int(input(\"enter the value for Q\"))\n",
    "temp_1=P\n",
    "P=Q\n",
    "Q=temp_1\n",
    "print(\"the value of P afterswaping:\",P)\n",
    "print(\"the value of Q afterswaping:\",Q)"
   ]
  },
  {
   "cell_type": "code",
   "execution_count": 5,
   "metadata": {},
   "outputs": [
    {
     "name": "stdout",
     "output_type": "stream",
     "text": [
      "6\n"
     ]
    }
   ],
   "source": [
    "import random\n",
    "print(random.randint(0,9))"
   ]
  },
  {
   "cell_type": "code",
   "execution_count": 9,
   "metadata": {},
   "outputs": [
    {
     "name": "stdout",
     "output_type": "stream",
     "text": [
      "5.00 kilometers is equal to3.11 miles\n"
     ]
    }
   ],
   "source": [
    "kilometers = float(input(\"enter the value in kilometers:\"))\n",
    "\n",
    "miles = kilometers * conv_fact\n",
    "print('%0.2f kilometers is equal to%0.2f miles' %(kilometers,miles))"
   ]
  }
 ],
 "metadata": {
  "kernelspec": {
   "display_name": "Python 3",
   "language": "python",
   "name": "python3"
  },
  "language_info": {
   "codemirror_mode": {
    "name": "ipython",
    "version": 3
   },
   "file_extension": ".py",
   "mimetype": "text/x-python",
   "name": "python",
   "nbconvert_exporter": "python",
   "pygments_lexer": "ipython3",
   "version": "3.11.2"
  },
  "orig_nbformat": 4
 },
 "nbformat": 4,
 "nbformat_minor": 2
}
